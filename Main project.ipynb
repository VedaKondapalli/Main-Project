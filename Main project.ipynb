{
 "cells": [
  {
   "cell_type": "code",
   "execution_count": 1,
   "id": "f8bbf025",
   "metadata": {},
   "outputs": [],
   "source": [
    "import pandas as pd\n",
    "from sklearn.model_selection import train_test_split\n",
    "from sklearn.linear_model import LogisticRegression\n",
    "from sklearn.naive_bayes import MultinomialNB\n",
    "from sklearn.neighbors import KNeighborsClassifier\n",
    "from sklearn.tree import DecisionTreeClassifier\n",
    "from sklearn.model_selection import GridSearchCV\n",
    "from sklearn.feature_extraction.text import CountVectorizer\n",
    "from sklearn.feature_extraction.text import TfidfVectorizer\n",
    "from sklearn.metrics import accuracy_score, classification_report, confusion_matrix\n",
    "import matplotlib.pyplot as plt\n"
   ]
  },
  {
   "cell_type": "code",
   "execution_count": 2,
   "id": "73e6c4dd",
   "metadata": {},
   "outputs": [],
   "source": [
    "# Loads the posts and comments dataset into seperate dataframes\n",
    "redditdataset_posts = pd.read_csv('Top_Posts.csv')\n",
    "redditdataset_comments = pd.read_csv('Top_Posts_Comments.csv')\n"
   ]
  },
  {
   "cell_type": "code",
   "execution_count": 3,
   "id": "18e3fdad",
   "metadata": {},
   "outputs": [
    {
     "data": {
      "text/html": [
       "<div>\n",
       "<style scoped>\n",
       "    .dataframe tbody tr th:only-of-type {\n",
       "        vertical-align: middle;\n",
       "    }\n",
       "\n",
       "    .dataframe tbody tr th {\n",
       "        vertical-align: top;\n",
       "    }\n",
       "\n",
       "    .dataframe thead th {\n",
       "        text-align: right;\n",
       "    }\n",
       "</style>\n",
       "<table border=\"1\" class=\"dataframe\">\n",
       "  <thead>\n",
       "    <tr style=\"text-align: right;\">\n",
       "      <th></th>\n",
       "      <th>post_id</th>\n",
       "      <th>post_title</th>\n",
       "      <th>subreddit</th>\n",
       "      <th>comments</th>\n",
       "    </tr>\n",
       "  </thead>\n",
       "  <tbody>\n",
       "    <tr>\n",
       "      <th>0</th>\n",
       "      <td>gh1dj9</td>\n",
       "      <td>[Project] From books to presentations in 10s w...</td>\n",
       "      <td>MachineLearning</td>\n",
       "      <td>186</td>\n",
       "    </tr>\n",
       "    <tr>\n",
       "      <th>1</th>\n",
       "      <td>kuc6tz</td>\n",
       "      <td>[D] A Demo from 1993 of 32-year-old Yann LeCun...</td>\n",
       "      <td>MachineLearning</td>\n",
       "      <td>133</td>\n",
       "    </tr>\n",
       "    <tr>\n",
       "      <th>2</th>\n",
       "      <td>g7nfvb</td>\n",
       "      <td>[R] First Order Motion Model applied to animat...</td>\n",
       "      <td>MachineLearning</td>\n",
       "      <td>111</td>\n",
       "    </tr>\n",
       "    <tr>\n",
       "      <th>3</th>\n",
       "      <td>lui92h</td>\n",
       "      <td>[N] AI can turn old photos into moving Images ...</td>\n",
       "      <td>MachineLearning</td>\n",
       "      <td>230</td>\n",
       "    </tr>\n",
       "    <tr>\n",
       "      <th>4</th>\n",
       "      <td>ohxnts</td>\n",
       "      <td>[D] This AI reveals how much time politicians ...</td>\n",
       "      <td>MachineLearning</td>\n",
       "      <td>228</td>\n",
       "    </tr>\n",
       "    <tr>\n",
       "      <th>...</th>\n",
       "      <td>...</td>\n",
       "      <td>...</td>\n",
       "      <td>...</td>\n",
       "      <td>...</td>\n",
       "    </tr>\n",
       "    <tr>\n",
       "      <th>2982</th>\n",
       "      <td>slx33m</td>\n",
       "      <td>We live in beautiful times where you can learn...</td>\n",
       "      <td>artificial</td>\n",
       "      <td>6</td>\n",
       "    </tr>\n",
       "    <tr>\n",
       "      <th>2983</th>\n",
       "      <td>k9otbj</td>\n",
       "      <td>Yann LeCun’s Deep Learning Course Free From NYU</td>\n",
       "      <td>artificial</td>\n",
       "      <td>1</td>\n",
       "    </tr>\n",
       "    <tr>\n",
       "      <th>2984</th>\n",
       "      <td>k2orib</td>\n",
       "      <td>You Can Now Learn for FREE: 9 Courses by Googl...</td>\n",
       "      <td>artificial</td>\n",
       "      <td>2</td>\n",
       "    </tr>\n",
       "    <tr>\n",
       "      <th>2985</th>\n",
       "      <td>ex9w4w</td>\n",
       "      <td>Chatbot trained on \"public domain social media...</td>\n",
       "      <td>artificial</td>\n",
       "      <td>10</td>\n",
       "    </tr>\n",
       "    <tr>\n",
       "      <th>2986</th>\n",
       "      <td>efk5n3</td>\n",
       "      <td>Tesla's Neural Net can now identify red and gr...</td>\n",
       "      <td>artificial</td>\n",
       "      <td>10</td>\n",
       "    </tr>\n",
       "  </tbody>\n",
       "</table>\n",
       "<p>2987 rows × 4 columns</p>\n",
       "</div>"
      ],
      "text/plain": [
       "     post_id                                         post_title  \\\n",
       "0     gh1dj9  [Project] From books to presentations in 10s w...   \n",
       "1     kuc6tz  [D] A Demo from 1993 of 32-year-old Yann LeCun...   \n",
       "2     g7nfvb  [R] First Order Motion Model applied to animat...   \n",
       "3     lui92h  [N] AI can turn old photos into moving Images ...   \n",
       "4     ohxnts  [D] This AI reveals how much time politicians ...   \n",
       "...      ...                                                ...   \n",
       "2982  slx33m  We live in beautiful times where you can learn...   \n",
       "2983  k9otbj    Yann LeCun’s Deep Learning Course Free From NYU   \n",
       "2984  k2orib  You Can Now Learn for FREE: 9 Courses by Googl...   \n",
       "2985  ex9w4w  Chatbot trained on \"public domain social media...   \n",
       "2986  efk5n3  Tesla's Neural Net can now identify red and gr...   \n",
       "\n",
       "            subreddit  comments  \n",
       "0     MachineLearning       186  \n",
       "1     MachineLearning       133  \n",
       "2     MachineLearning       111  \n",
       "3     MachineLearning       230  \n",
       "4     MachineLearning       228  \n",
       "...               ...       ...  \n",
       "2982       artificial         6  \n",
       "2983       artificial         1  \n",
       "2984       artificial         2  \n",
       "2985       artificial        10  \n",
       "2986       artificial        10  \n",
       "\n",
       "[2987 rows x 4 columns]"
      ]
     },
     "execution_count": 3,
     "metadata": {},
     "output_type": "execute_result"
    }
   ],
   "source": [
    "redditdataset_posts=redditdataset_posts.drop(['post_url'], axis = 1)\n",
    "redditdataset_posts=redditdataset_posts.drop(['flair_text'], axis = 1)\n",
    "redditdataset_posts=redditdataset_posts.drop(['score'], axis = 1)\n",
    "redditdataset_posts=redditdataset_posts.drop(['upvote_ratio'], axis = 1)\n",
    "redditdataset_posts=redditdataset_posts.drop(['date-time'], axis = 1)\n",
    "redditdataset_posts=redditdataset_posts.drop(['year'], axis = 1)\n",
    "redditdataset_posts"
   ]
  },
  {
   "cell_type": "code",
   "execution_count": 4,
   "id": "c40a4686",
   "metadata": {},
   "outputs": [],
   "source": [
    "# Merges the posts and comments dataset based on post_id\n",
    "redditdataset_data = pd.merge(redditdataset_comments, redditdataset_posts[['post_id', 'subreddit']], left_on='post_id', \n",
    "    right_on='post_id')"
   ]
  },
  {
   "cell_type": "code",
   "execution_count": 5,
   "id": "3cdb413b",
   "metadata": {},
   "outputs": [
    {
     "data": {
      "text/html": [
       "<div>\n",
       "<style scoped>\n",
       "    .dataframe tbody tr th:only-of-type {\n",
       "        vertical-align: middle;\n",
       "    }\n",
       "\n",
       "    .dataframe tbody tr th {\n",
       "        vertical-align: top;\n",
       "    }\n",
       "\n",
       "    .dataframe thead th {\n",
       "        text-align: right;\n",
       "    }\n",
       "</style>\n",
       "<table border=\"1\" class=\"dataframe\">\n",
       "  <thead>\n",
       "    <tr style=\"text-align: right;\">\n",
       "      <th></th>\n",
       "      <th>comments</th>\n",
       "    </tr>\n",
       "  </thead>\n",
       "  <tbody>\n",
       "    <tr>\n",
       "      <th>count</th>\n",
       "      <td>2987.000000</td>\n",
       "    </tr>\n",
       "    <tr>\n",
       "      <th>mean</th>\n",
       "      <td>72.939739</td>\n",
       "    </tr>\n",
       "    <tr>\n",
       "      <th>std</th>\n",
       "      <td>92.253969</td>\n",
       "    </tr>\n",
       "    <tr>\n",
       "      <th>min</th>\n",
       "      <td>0.000000</td>\n",
       "    </tr>\n",
       "    <tr>\n",
       "      <th>25%</th>\n",
       "      <td>19.000000</td>\n",
       "    </tr>\n",
       "    <tr>\n",
       "      <th>50%</th>\n",
       "      <td>45.000000</td>\n",
       "    </tr>\n",
       "    <tr>\n",
       "      <th>75%</th>\n",
       "      <td>99.500000</td>\n",
       "    </tr>\n",
       "    <tr>\n",
       "      <th>max</th>\n",
       "      <td>2361.000000</td>\n",
       "    </tr>\n",
       "  </tbody>\n",
       "</table>\n",
       "</div>"
      ],
      "text/plain": [
       "          comments\n",
       "count  2987.000000\n",
       "mean     72.939739\n",
       "std      92.253969\n",
       "min       0.000000\n",
       "25%      19.000000\n",
       "50%      45.000000\n",
       "75%      99.500000\n",
       "max    2361.000000"
      ]
     },
     "execution_count": 5,
     "metadata": {},
     "output_type": "execute_result"
    }
   ],
   "source": [
    "redditdataset_posts.describe()\n"
   ]
  },
  {
   "cell_type": "code",
   "execution_count": 6,
   "id": "09cdb83d",
   "metadata": {},
   "outputs": [
    {
     "data": {
      "text/html": [
       "<div>\n",
       "<style scoped>\n",
       "    .dataframe tbody tr th:only-of-type {\n",
       "        vertical-align: middle;\n",
       "    }\n",
       "\n",
       "    .dataframe tbody tr th {\n",
       "        vertical-align: top;\n",
       "    }\n",
       "\n",
       "    .dataframe thead th {\n",
       "        text-align: right;\n",
       "    }\n",
       "</style>\n",
       "<table border=\"1\" class=\"dataframe\">\n",
       "  <thead>\n",
       "    <tr style=\"text-align: right;\">\n",
       "      <th></th>\n",
       "      <th>post_id</th>\n",
       "      <th>comment</th>\n",
       "    </tr>\n",
       "  </thead>\n",
       "  <tbody>\n",
       "    <tr>\n",
       "      <th>count</th>\n",
       "      <td>223174</td>\n",
       "      <td>223159</td>\n",
       "    </tr>\n",
       "    <tr>\n",
       "      <th>unique</th>\n",
       "      <td>2988</td>\n",
       "      <td>209561</td>\n",
       "    </tr>\n",
       "    <tr>\n",
       "      <th>top</th>\n",
       "      <td>k77sxz</td>\n",
       "      <td>[deleted]</td>\n",
       "    </tr>\n",
       "    <tr>\n",
       "      <th>freq</th>\n",
       "      <td>2419</td>\n",
       "      <td>7544</td>\n",
       "    </tr>\n",
       "  </tbody>\n",
       "</table>\n",
       "</div>"
      ],
      "text/plain": [
       "       post_id    comment\n",
       "count   223174     223159\n",
       "unique    2988     209561\n",
       "top     k77sxz  [deleted]\n",
       "freq      2419       7544"
      ]
     },
     "execution_count": 6,
     "metadata": {},
     "output_type": "execute_result"
    }
   ],
   "source": [
    "redditdataset_comments.describe()"
   ]
  },
  {
   "cell_type": "code",
   "execution_count": 7,
   "id": "7604cf90",
   "metadata": {},
   "outputs": [],
   "source": [
    "# Keep only the comments and subreddit columns\n",
    "redditdataset_data = redditdataset_data[['comment', 'subreddit']]"
   ]
  },
  {
   "cell_type": "code",
   "execution_count": 8,
   "id": "0f0bb80e",
   "metadata": {},
   "outputs": [],
   "source": [
    "redditdataset_data['comment'] = redditdataset_data['comment'].fillna('')"
   ]
  },
  {
   "cell_type": "code",
   "execution_count": 65,
   "id": "f8263867",
   "metadata": {},
   "outputs": [
    {
     "data": {
      "image/png": "[encoded data removed]",
      "text/plain": [
       "<Figure size 432x288 with 1 Axes>"
      ]
     },
     "metadata": {
      "needs_background": "light"
     },
     "output_type": "display_data"
    }
   ],
   "source": [
    "redditdataset_posts.hist(bins=40, figsize=(6,4), color='pink')\n",
    "plt.show()\n"
   ]
  },
  {
   "cell_type": "code",
   "execution_count": 10,
   "id": "97a30859",
   "metadata": {},
   "outputs": [
    {
     "data": {
      "image/png": "[encoded data removed]",
      "text/plain": [
       "<Figure size 504x432 with 1 Axes>"
      ]
     },
     "metadata": {
      "needs_background": "light"
     },
     "output_type": "display_data"
    }
   ],
   "source": [
    "# Create a bar chart showing the division of subreddits\n",
    "subreddit_counts = redditdataset_data['subreddit'].value_counts()\n",
    "fig, ax = plt.subplots(figsize=(7,6))\n",
    "ax.bar(subreddit_counts.index, subreddit_counts.values, width=0.2, color='violet')\n",
    "ax.set_title('Division of Subreddits')\n",
    "ax.set_xlabel('Subreddit')\n",
    "ax.set_ylabel('Count')\n",
    "plt.show()"
   ]
  },
  {
   "cell_type": "code",
   "execution_count": 12,
   "id": "0713acc4",
   "metadata": {},
   "outputs": [],
   "source": [
    "# Split the dataset into training and testing sets\n",
    "X_training, X_testing, y_training, y_testing = train_test_split(redditdataset_data['comment'], redditdataset_data['subreddit'], test_size=0.3, random_state=51)\n"
   ]
  },
  {
   "cell_type": "code",
   "execution_count": 13,
   "id": "cb0f4e89",
   "metadata": {},
   "outputs": [],
   "source": [
    "# Create a TfidfVectorizer to convert text data into a matrix of TF-IDF features\n",
    "vectorizer = TfidfVectorizer(stop_words='english')\n",
    "X_training_tfidf = vectorizer.fit_transform(X_training)"
   ]
  },
  {
   "cell_type": "code",
   "execution_count": 14,
   "id": "0145063e",
   "metadata": {},
   "outputs": [
    {
     "data": {
      "text/plain": [
       "KNeighborsClassifier()"
      ]
     },
     "execution_count": 14,
     "metadata": {},
     "output_type": "execute_result"
    }
   ],
   "source": [
    "# Train the machine learning models on the training data\n",
    "knnmodel = KNeighborsClassifier(n_neighbors=5)\n",
    "knnmodel.fit(X_training_tfidf, y_training)"
   ]
  },
  {
   "cell_type": "code",
   "execution_count": 15,
   "id": "0590184e",
   "metadata": {},
   "outputs": [],
   "source": [
    "# Transform the test data using the same TfidfVectorizer\n",
    "X_testing_tfidf = vectorizer.transform(X_testing)\n",
    "# Use the trained classifier to predict the subreddit labels of the test data\n",
    "y_pred = knnmodel.predict(X_testing_tfidf)"
   ]
  },
  {
   "cell_type": "code",
   "execution_count": 16,
   "id": "35a1d503",
   "metadata": {},
   "outputs": [
    {
     "name": "stdout",
     "output_type": "stream",
     "text": [
      "Accuracy:  0.4805156009618975\n",
      "Classification Report:                   precision    recall  f1-score   support\n",
      "\n",
      "MachineLearning       0.48      0.46      0.47     28660\n",
      "     artificial       0.13      0.10      0.12      6045\n",
      "    datascience       0.53      0.57      0.55     32246\n",
      "\n",
      "       accuracy                           0.48     66951\n",
      "      macro avg       0.38      0.38      0.38     66951\n",
      "   weighted avg       0.47      0.48      0.48     66951\n",
      "\n",
      "Confusion Matrix:  [[13144  1961 13555]\n",
      " [ 2617   619  2809]\n",
      " [11829  2009 18408]]\n"
     ]
    }
   ],
   "source": [
    "# Evaluate the performance of the classifier\n",
    "knn_acc_5 = accuracy_score(y_testing, y_pred)\n",
    "print(\"Accuracy: \", knn_acc_5)\n",
    "print(\"Classification Report: \", classification_report(y_testing, y_pred))\n",
    "print(\"Confusion Matrix: \", confusion_matrix(y_testing, y_pred))"
   ]
  },
  {
   "cell_type": "code",
   "execution_count": 69,
   "id": "75215fa9",
   "metadata": {},
   "outputs": [
    {
     "name": "stdout",
     "output_type": "stream",
     "text": [
      "The comment implies to the MachineLearning subreddit.\n"
     ]
    }
   ],
   "source": [
    "# Take an input comment and predict which subreddit it belongs to\n",
    "input_comment = \"This will be amazing if released, even as a beta. Definitely can see this being very useful\"\n",
    "input_tfidf = vectorizer.transform([input_comment])\n",
    "forecasted_subreddit = knnmodel.predict(input_tfidf)[0]\n",
    "\n",
    "print(\"The comment implies to the\", forecasted_subreddit, \"subreddit.\")"
   ]
  },
  {
   "cell_type": "code",
   "execution_count": 17,
   "id": "6d1f28bb",
   "metadata": {},
   "outputs": [
    {
     "data": {
      "text/plain": [
       "KNeighborsClassifier(n_neighbors=3)"
      ]
     },
     "execution_count": 17,
     "metadata": {},
     "output_type": "execute_result"
    }
   ],
   "source": [
    "# Train the machine learning models on the training data\n",
    "knnmodel = KNeighborsClassifier(n_neighbors=3)\n",
    "knnmodel.fit(X_training_tfidf, y_training)"
   ]
  },
  {
   "cell_type": "code",
   "execution_count": 18,
   "id": "c681d9d6",
   "metadata": {},
   "outputs": [],
   "source": [
    "# Transform the test data using the same TfidfVectorizer\n",
    "X_testing_tfidf = vectorizer.transform(X_testing)\n",
    "# Use the trained classifier to predict the subreddit labels of the test data\n",
    "y_pred = knnmodel.predict(X_testing_tfidf)"
   ]
  },
  {
   "cell_type": "code",
   "execution_count": 19,
   "id": "e66b8b2d",
   "metadata": {},
   "outputs": [
    {
     "name": "stdout",
     "output_type": "stream",
     "text": [
      "Accuracy:  0.5068931009245567\n",
      "Classification Report:                   precision    recall  f1-score   support\n",
      "\n",
      "MachineLearning       0.55      0.15      0.23     28660\n",
      "     artificial       0.30      0.04      0.06      6045\n",
      "    datascience       0.50      0.92      0.65     32246\n",
      "\n",
      "       accuracy                           0.51     66951\n",
      "      macro avg       0.45      0.37      0.32     66951\n",
      "   weighted avg       0.50      0.51      0.42     66951\n",
      "\n",
      "Confusion Matrix:  [[ 4186   298 24176]\n",
      " [  930   219  4896]\n",
      " [ 2490   224 29532]]\n"
     ]
    }
   ],
   "source": [
    "# Evaluate the performance of the classifier\n",
    "knn_acc_3 = accuracy_score(y_testing, y_pred)\n",
    "print(\"Accuracy: \", knn_acc_3)\n",
    "print(\"Classification Report: \", classification_report(y_testing, y_pred))\n",
    "print(\"Confusion Matrix: \", confusion_matrix(y_testing, y_pred))"
   ]
  },
  {
   "cell_type": "code",
   "execution_count": 20,
   "id": "10e9495b",
   "metadata": {},
   "outputs": [
    {
     "data": {
      "image/png": "[encoded data removed]",
      "text/plain": [
       "<Figure size 432x288 with 1 Axes>"
      ]
     },
     "metadata": {
      "needs_background": "light"
     },
     "output_type": "display_data"
    }
   ],
   "source": [
    "import matplotlib.pyplot as plt\n",
    "\n",
    "# Define the colors for each bar\n",
    "shades = ['yellow', 'orange']\n",
    "\n",
    "# Define the accuracies and bar labels\n",
    "accuracies = [ knn_acc_5, knn_acc_3]\n",
    "labels = ['KNN (n_neighbors=5)', 'KNN (n_neighbors=3)']\n",
    "\n",
    "# Create a bar chart showing the accuracies\n",
    "plt.bar(labels, accuracies, color=shades)\n",
    "plt.title('Comparing Accuracy')\n",
    "plt.xlabel('No of Neighbors')\n",
    "plt.ylabel('Accuracy')\n",
    "plt.ylim(0.0, 1.0)\n",
    "plt.show()\n"
   ]
  },
  {
   "cell_type": "code",
   "execution_count": 85,
   "id": "3a2eba82",
   "metadata": {},
   "outputs": [
    {
     "name": "stdout",
     "output_type": "stream",
     "text": [
      "Accuracy:  0.626980926349121\n",
      "Classification Report:                   precision    recall  f1-score   support\n",
      "\n",
      "MachineLearning       0.60      0.64      0.62     28660\n",
      "     artificial       0.26      0.16      0.20      6045\n",
      "    datascience       0.69      0.70      0.70     32246\n",
      "\n",
      "       accuracy                           0.63     66951\n",
      "      macro avg       0.52      0.50      0.51     66951\n",
      "   weighted avg       0.62      0.63      0.62     66951\n",
      "\n",
      "Confusion Matrix:  [[18465  1975  8220]\n",
      " [ 3309   995  1741]\n",
      " [ 8830   899 22517]]\n"
     ]
    }
   ],
   "source": [
    "# Train the machine learning models on the training data\n",
    "dtcmodel = DecisionTreeClassifier(random_state=51)\n",
    "dtcmodel.fit(X_training_tfidf, y_training)\n",
    "\n",
    "# Transform the test data using the same TfidfVectorizer\n",
    "X_testing_tfidf = vectorizer.transform(X_testing)\n",
    "# Use the trained classifier to predict the subreddit labels of the test data\n",
    "y_pred = dtcmodel.predict(X_testing_tfidf)\n",
    "\n",
    "# Evaluate the performance of the classifier\n",
    "dt_acc_nomaxdepth = accuracy_score(y_testing, y_pred)\n",
    "print(\"Accuracy: \", dt_acc_nomaxdepth)\n",
    "print(\"Classification Report: \", classification_report(y_testing, y_pred))\n",
    "print(\"Confusion Matrix: \", confusion_matrix(y_testing, y_pred))"
   ]
  },
  {
   "cell_type": "code",
   "execution_count": 82,
   "id": "65564d54",
   "metadata": {},
   "outputs": [
    {
     "data": {
      "text/plain": [
       "DecisionTreeClassifier(max_depth=1000, random_state=51)"
      ]
     },
     "execution_count": 82,
     "metadata": {},
     "output_type": "execute_result"
    }
   ],
   "source": [
    "# Train the machine learning models on the training data\n",
    "dtcmodel = DecisionTreeClassifier(random_state=51, max_depth =500)\n",
    "dtcmodel.fit(X_training_tfidf, y_training)"
   ]
  },
  {
   "cell_type": "code",
   "execution_count": 83,
   "id": "45bad4ca",
   "metadata": {},
   "outputs": [],
   "source": [
    "# Transform the test data using the same TfidfVectorizer\n",
    "X_testing_tfidf = vectorizer.transform(X_testing)\n",
    "# Use the trained classifier to predict the subreddit labels of the test data\n",
    "y_pred = dtcmodel.predict(X_testing_tfidf)"
   ]
  },
  {
   "cell_type": "code",
   "execution_count": 84,
   "id": "2d9f92a2",
   "metadata": {},
   "outputs": [
    {
     "name": "stdout",
     "output_type": "stream",
     "text": [
      "Accuracy:  0.6309539812698839\n",
      "Classification Report:                   precision    recall  f1-score   support\n",
      "\n",
      "MachineLearning       0.62      0.61      0.62     28660\n",
      "     artificial       0.28      0.16      0.20      6045\n",
      "    datascience       0.67      0.74      0.70     32246\n",
      "\n",
      "       accuracy                           0.63     66951\n",
      "      macro avg       0.53      0.50      0.51     66951\n",
      "   weighted avg       0.62      0.63      0.62     66951\n",
      "\n",
      "Confusion Matrix:  [[17491  1730  9439]\n",
      " [ 2966   966  2113]\n",
      " [ 7744   716 23786]]\n"
     ]
    }
   ],
   "source": [
    "# Evaluate the performance of the classifier\n",
    "dt_acc_withmaxdepth = accuracy_score(y_testing, y_pred)\n",
    "print(\"Accuracy: \", dt_acc_withmaxdepth)\n",
    "print(\"Classification Report: \", classification_report(y_testing, y_pred))\n",
    "print(\"Confusion Matrix: \", confusion_matrix(y_testing, y_pred))"
   ]
  },
  {
   "cell_type": "code",
   "execution_count": 64,
   "id": "95b53601",
   "metadata": {},
   "outputs": [
    {
     "data": {
      "image/png": "[encoded data removed]",
      "text/plain": [
       "<Figure size 432x288 with 1 Axes>"
      ]
     },
     "metadata": {
      "needs_background": "light"
     },
     "output_type": "display_data"
    }
   ],
   "source": [
    "# Define the colors for each bar\n",
    "shades = ['purple', 'turquoise']\n",
    "\n",
    "# Define the accuracies and bar labels\n",
    "accuracies = [dt_acc_nomaxdepth, dt_acc_withmaxdepth]\n",
    "labels = ['DecisionTreeClassifier(dt_acc_nomaxdepth)', 'DecisionTreeClassifier(dtc_acc_withmaxdepth)']\n",
    "\n",
    "# Create a bar graph with space between bars\n",
    "plt.bar(labels, accuracies, width=0.05)\n",
    "\n",
    "# Create a bar chart showing the accuracies\n",
    "plt.bar(labels, accuracies, color=shades)\n",
    "plt.xticks(rotation=90)\n",
    "plt.title('Accuracy Comparison of DTC Model')\n",
    "plt.xlabel('Model with and without maxdepths')\n",
    "plt.ylabel('Accuracy')\n",
    "plt.ylim(0.0, 0.7)\n",
    "\n",
    "plt.show()\n"
   ]
  },
  {
   "cell_type": "code",
   "execution_count": 40,
   "id": "d951781e",
   "metadata": {},
   "outputs": [
    {
     "data": {
      "text/plain": [
       "LogisticRegression(max_iter=500)"
      ]
     },
     "execution_count": 40,
     "metadata": {},
     "output_type": "execute_result"
    }
   ],
   "source": [
    "# Train the machine learning models on the training data\n",
    "lrmodel = LogisticRegression(max_iter=500)\n",
    "lrmodel.fit(X_training_tfidf, y_training)\n",
    "\n"
   ]
  },
  {
   "cell_type": "code",
   "execution_count": 43,
   "id": "cc75ac9c",
   "metadata": {},
   "outputs": [],
   "source": [
    "# Transform the test data using the same TfidfVectorizer\n",
    "X_testing_tfidf = vectorizer.transform(X_testing)\n",
    "# Use the trained classifier to predict the subreddit labels of the test data\n",
    "y_pred = lrmodel.predict(X_testing_tfidf)\n"
   ]
  },
  {
   "cell_type": "code",
   "execution_count": 45,
   "id": "59bbd8e6",
   "metadata": {},
   "outputs": [
    {
     "name": "stdout",
     "output_type": "stream",
     "text": [
      "Accuracy:  0.7214530029424504\n",
      "Classification Report:                   precision    recall  f1-score   support\n",
      "\n",
      "MachineLearning       0.68      0.76      0.72     28660\n",
      "     artificial       0.52      0.13      0.21      6045\n",
      "    datascience       0.77      0.80      0.78     32246\n",
      "\n",
      "       accuracy                           0.72     66951\n",
      "      macro avg       0.66      0.56      0.57     66951\n",
      "   weighted avg       0.71      0.72      0.70     66951\n",
      "\n",
      "Confusion Matrix:  [[21776   558  6326]\n",
      " [ 3733   784  1528]\n",
      " [ 6351   153 25742]]\n"
     ]
    }
   ],
   "source": [
    "# Evaluate the performance of the classifier\n",
    "lr_acc = accuracy_score(y_testing, y_pred)\n",
    "print(\"Accuracy: \", lr_acc)\n",
    "print(\"Classification Report: \", classification_report(y_testing, y_pred))\n",
    "print(\"Confusion Matrix: \", confusion_matrix(y_testing, y_pred))"
   ]
  },
  {
   "cell_type": "code",
   "execution_count": 50,
   "id": "2da58cc7",
   "metadata": {},
   "outputs": [
    {
     "data": {
      "text/plain": [
       "MultinomialNB()"
      ]
     },
     "execution_count": 50,
     "metadata": {},
     "output_type": "execute_result"
    }
   ],
   "source": [
    "nbmodel =  MultinomialNB()\n",
    "nbmodel.fit(X_training_tfidf, y_training)"
   ]
  },
  {
   "cell_type": "code",
   "execution_count": 51,
   "id": "814efb02",
   "metadata": {},
   "outputs": [],
   "source": [
    "# Use the trained classifier to predict the subreddit labels of the test data\n",
    "y_pred = nbmodel.predict(X_testing_tfidf)"
   ]
  },
  {
   "cell_type": "code",
   "execution_count": 52,
   "id": "9dc539ba",
   "metadata": {},
   "outputs": [
    {
     "name": "stdout",
     "output_type": "stream",
     "text": [
      "Accuracy:  0.7111469582231782\n",
      "Classification Report:                   precision    recall  f1-score   support\n",
      "\n",
      "MachineLearning       0.69      0.72      0.70     28660\n",
      "     artificial       0.70      0.00      0.01      6045\n",
      "    datascience       0.73      0.84      0.78     32246\n",
      "\n",
      "       accuracy                           0.71     66951\n",
      "      macro avg       0.71      0.52      0.50     66951\n",
      "   weighted avg       0.71      0.71      0.68     66951\n",
      "\n",
      "Confusion Matrix:  [[20497     5  8158]\n",
      " [ 4218    19  1808]\n",
      " [ 5147     3 27096]]\n"
     ]
    }
   ],
   "source": [
    "# Evaluate the performance of the classifier\n",
    "naive_cc = accuracy_score(y_testing, y_pred)\n",
    "print(\"Accuracy: \", naive_cc)\n",
    "print(\"Classification Report: \", classification_report(y_testing, y_pred))\n",
    "print(\"Confusion Matrix: \", confusion_matrix(y_testing, y_pred))"
   ]
  },
  {
   "cell_type": "code",
   "execution_count": 75,
   "id": "10a6b9ec",
   "metadata": {},
   "outputs": [
    {
     "name": "stdout",
     "output_type": "stream",
     "text": [
      "Fitting 3 folds for each of 3 candidates, totalling 9 fits\n",
      "[CV] END .....................................clf__alpha=0.5; total time=   3.3s\n",
      "[CV] END .....................................clf__alpha=0.5; total time=   3.3s\n",
      "[CV] END .....................................clf__alpha=0.5; total time=   3.3s\n",
      "[CV] END .....................................clf__alpha=1.0; total time=   3.3s\n",
      "[CV] END .....................................clf__alpha=1.0; total time=   3.5s\n",
      "[CV] END .....................................clf__alpha=1.0; total time=   3.4s\n",
      "[CV] END .....................................clf__alpha=1.5; total time=   3.3s\n",
      "[CV] END .....................................clf__alpha=1.5; total time=   3.4s\n",
      "[CV] END .....................................clf__alpha=1.5; total time=   3.3s\n",
      "Best parameters:  {'clf__alpha': 0.5}\n",
      "Best accuracy score:  0.7092185853846087\n",
      "Accuracy:  0.7138354916282057\n"
     ]
    }
   ],
   "source": [
    "from sklearn.naive_bayes import MultinomialNB\n",
    "from sklearn.model_selection import GridSearchCV\n",
    "from sklearn.pipeline import Pipeline    \n",
    "# Create a pipeline to convert text data into a matrix of TF-IDF features and train a Naive Bayes classifier\n",
    "pipeline = Pipeline([\n",
    "    ('tfidf', TfidfVectorizer(stop_words='english')),\n",
    "    ('clf', MultinomialNB())\n",
    "])\n",
    "\n",
    "\n",
    "# Perform grid search cross-validation to find the best hyperparameters\n",
    "grid_search = GridSearchCV(pipeline, param_grid={\n",
    "    'clf__alpha': [0.5, 1.0, 1.5]\n",
    "}, cv=3, scoring='accuracy', verbose=2)\n",
    "grid_search.fit(X_training, y_training)\n",
    "\n",
    "# Print the best hyperparameters and corresponding accuracy score\n",
    "print(\"Best parameters: \", grid_search.best_params_)\n",
    "print(\"Best accuracy score: \", grid_search.best_score_)\n",
    "\n",
    "# Evaluate the performance of the tuned classifier on the test data\n",
    "y_pred = grid_search.predict(X_testing)\n",
    "print(\"Accuracy: \", accuracy_score(y_testing, y_pred))\n"
   ]
  },
  {
   "cell_type": "code",
   "execution_count": 63,
   "id": "b4a4b3e4",
   "metadata": {},
   "outputs": [
    {
     "data": {
      "image/png": "[encoded data removed]",
      "text/plain": [
       "<Figure size 432x288 with 1 Axes>"
      ]
     },
     "metadata": {
      "needs_background": "light"
     },
     "output_type": "display_data"
    }
   ],
   "source": [
    "import matplotlib.pyplot as plt\n",
    "\n",
    "# Define the colors for each bar\n",
    "shades = ['violet', 'indigo', 'blue', 'green','yellow','orange']\n",
    "\n",
    "# Create a bar chart showing the accuracies\n",
    "plt.bar(['KNeighbors_5','KNeighbors_3', 'DecisionTree_Nomaxdepth', 'DecisionTree_Withmaxdepth', 'NaiveBayes', 'Logistic'], [knn_acc_5,knn_acc_3,dt_acc_nomaxdepth, dt_acc_withmaxdepth, naive_cc, lr_acc], color=shades)\n",
    "plt.xticks(rotation=90,)\n",
    "plt.xlabel('Algorithm Name')\n",
    "plt.ylabel('Accuracy')\n",
    "plt.title('Comparing Accuracy')\n",
    "plt.ylim(0.0, 1.0)\n",
    "plt.show()\n",
    "\n"
   ]
  },
  {
   "cell_type": "code",
   "execution_count": null,
   "id": "9db8d0dc",
   "metadata": {},
   "outputs": [],
   "source": [
    "#References\n",
    "#https://www.geeksforgeeks.org/read-multiple-csv-files-into-separate-dataframes-in-python/\n",
    "#https://www.geeksforgeeks.org/merge-two-pandas-dataframes-on-certain-columns/\n",
    "#https://www.geeksforgeeks.org/how-to-drop-one-or-multiple-columns-in-pandas-dataframe/\n",
    "#https://www.geeksforgeeks.org/python-pandas-dataframe-describe-method/\n",
    "#https://datagy.io/histogram-python/#:~:text=A%20histogram%20is%20a%20chart%20that%20uses%20bars,the%20spread%20of%20a%20continuous%20sample%20of%20data.common way to split a dataset into training and testing sets for machine learning tasks\n",
    "#https://www.analyticsvidhya.com/blog/2021/08/understanding-bar-plots-in-python-beginners-guide-to-data-visualization/\n",
    "#https://www.geeksforgeeks.org/how-to-do-train-test-split-using-sklearn-in-python/\n",
    "#https://www.geeksforgeeks.org/sklearn-feature-extraction-with-tf-idf/\n",
    "#https://www.analyticsvidhya.com/blog/2021/07/bag-of-words-vs-tfidf-vectorization-a-hands-on-tutorial/\n",
    "#https://builtin.com/data-science/evaluating-classification-models\n",
    "#https://www.geeksforgeeks.org/learning-model-building-scikit-learn-python-machine-learning-library/\n",
    "#https://www.geeksforgeeks.org/bar-plot-in-matplotlib/\n",
    "#https://stackoverflow.com/que/stions/62178829/how-to-use-tf-idf-features-for-training-your-model\n"
   ]
  },
  {
   "cell_type": "code",
   "execution_count": null,
   "id": "52c63ae7",
   "metadata": {},
   "outputs": [],
   "source": []
  }
 ],
 "metadata": {
  "kernelspec": {
   "display_name": "Python 3 (ipykernel)",
   "language": "python",
   "name": "python3"
  },
  "language_info": {
   "codemirror_mode": {
    "name": "ipython",
    "version": 3
   },
   "file_extension": ".py",
   "mimetype": "text/x-python",
   "name": "python",
   "nbconvert_exporter": "python",
   "pygments_lexer": "ipython3",
   "version": "3.9.7"
  }
 },
 "nbformat": 4,
 "nbformat_minor": 5
}
